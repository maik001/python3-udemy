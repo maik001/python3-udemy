{
 "cells": [
  {
   "cell_type": "markdown",
   "source": [
    "# Primeiros Exemplos"
   ],
   "metadata": {
    "collapsed": false,
    "pycharm": {
     "name": "#%% md\n"
    }
   }
  },
  {
   "cell_type": "code",
   "execution_count": null,
   "id": "e2fe7c97",
   "metadata": {
    "pycharm": {
     "name": "#%%\n"
    }
   },
   "outputs": [],
   "source": [
    "# print é a função de saída de dados em python\n",
    "print('Primeiro Programa')\n",
    "\n",
    "# para se quebrar linha em uma operação matemática é preciso colocar o /\n",
    "1 \\\n",
    "+ 2\n",
    "\n",
    "# a função help mostra um manual do que está no argumento\n",
    "help(print)"
   ]
  },
  {
   "cell_type": "code",
   "execution_count": null,
   "id": "a1d60fef",
   "metadata": {
    "pycharm": {
     "name": "#%%\n"
    }
   },
   "outputs": [],
   "source": [
    "# o que vai ser exibido será o resultado da ultima operação\n",
    "1 + 2 + 3\n",
    "4 + 5 + 6"
   ]
  },
  {
   "cell_type": "code",
   "execution_count": null,
   "id": "a664c4d1",
   "metadata": {
    "pycharm": {
     "name": "#%%\n"
    }
   },
   "outputs": [],
   "source": [
    "# pra ser exibido os dois resultado é preciso colocar a função print\n",
    "print(1 + 2 + 3)\n",
    "print(4 + 5 + 6)"
   ]
  },
  {
   "cell_type": "markdown",
   "id": "b9801435",
   "metadata": {
    "pycharm": {
     "name": "#%% md\n"
    }
   },
   "source": [
    "# Tipos de dados em Python"
   ]
  },
  {
   "cell_type": "code",
   "execution_count": null,
   "id": "7c8ca2e8",
   "metadata": {
    "pycharm": {
     "name": "#%%\n"
    }
   },
   "outputs": [],
   "source": [
    "# tipo booleano(Verdadeiro ou Falso)\n",
    "print(True)\n",
    "print(False)\n",
    "\n",
    "# tipo float(ponto flutuante) -> conjunto dos reais\n",
    "print(1.2 + 1)\n",
    "\n",
    "# string(cadeira de caracteres)\n",
    "print(\"Qualquer texto na minha lingua\")\n",
    "\n",
    "# concatenação de tipos mistos sem ambigüidade\n",
    "print('Você é ' + 3 * ' muito ' + ' legal!')\n",
    "\n",
    "# contatenação de tipos mistos com ambigüidade\n",
    "# print(3 + '3')\n",
    "\n",
    "# lista -> estrutura indexada(valores são acessados através de índices)\n",
    "print([1, 2, 3])\n",
    "\n",
    "# dicionario -> estrutura chave-valor(valores são acessados através de chaves-> identificadores únicos)\n",
    "print({'nome': 'Maik', 'idade': 19})\n",
    "\n",
    "# ausência de valores, nulo\n",
    "print(None)"
   ]
  },
  {
   "cell_type": "markdown",
   "id": "284b154e",
   "metadata": {
    "pycharm": {
     "name": "#%% md\n"
    }
   },
   "source": [
    "# Variáveis em Python\n",
    "As variáveis em Python são dinâmicamente tipadas, ou seja, você não precisa explicitar que a variável \"a\" só irá receber valores inteiros, por exemplo.\n",
    "\n",
    "O Interpretador do Python é fortemente tipado porque quando você realiza, por exemplo, uma operação de concatenação de uma string com um inteiro, **ele vai reconhecer e distinguir esses tipos de variáveis** e perceber a ambigüidade dessa operação, assim como outras operações."
   ]
  },
  {
   "cell_type": "code",
   "execution_count": null,
   "id": "6546885c",
   "metadata": {
    "pycharm": {
     "name": "#%%\n"
    }
   },
   "outputs": [],
   "source": [
    "# atribuindo valor à variáveis\n",
    "a = 10\n",
    "b = 5.2\n",
    "\n",
    "print(a + b)\n",
    "\n",
    "# mudando o valor de \"a\" para outro tipo de variável de forma dinâmica\n",
    "a = \"Agora sou uma String\"\n",
    "\n",
    "print(a)"
   ]
  },
  {
   "cell_type": "markdown",
   "id": "39f34a7e",
   "metadata": {
    "pycharm": {
     "name": "#%% md\n"
    }
   },
   "source": [
    "# Comentários em Python\n",
    "Comentários deve ser pertinentes à coisas realmente complexas e específicas, em outras palavras, forçando você a deixar o código o mais legível e intuitívo possível"
   ]
  },
  {
   "cell_type": "code",
   "execution_count": null,
   "id": "656f89ea",
   "metadata": {
    "pycharm": {
     "name": "#%%\n"
    }
   },
   "outputs": [],
   "source": [
    "# Minhas variáveis\n",
    "salario = 3250.45\n",
    "despesas = 2400\n",
    "\n",
    "\"\"\"\n",
    "Calcular a receita mensal substraindo as despesas do salário\n",
    "\"\"\"\n",
    "receita = salario - despesas\n",
    "\n",
    "print(receita)\n",
    "\n",
    "print('Comentário pode ser do lado também') # Pode ser aqui"
   ]
  },
  {
   "cell_type": "markdown",
   "id": "51b53637",
   "metadata": {
    "pycharm": {
     "name": "#%% md\n"
    }
   },
   "source": [
    "# Operadores Aritméticos em Python\n",
    "Operadores Aritméticos são operadores binários, podemos classificar os operadores pela quantidade de operandos. Ex:\n",
    "2 + 2\n",
    "A soma é um operador binários pois precisa de dois operandos\n",
    "\n",
    "Existem também os operadores unários. Ex:\n",
    "++x\n",
    "x--"
   ]
  },
  {
   "cell_type": "code",
   "execution_count": null,
   "id": "b1205968",
   "metadata": {
    "pycharm": {
     "name": "#%%\n"
    }
   },
   "outputs": [],
   "source": [
    "# soma de dois valores inteiros\n",
    "print(2 + 3)\n",
    "\n",
    "# subtração de dois valores inteiros\n",
    "print(4 - 7)\n",
    "\n",
    "# multiplicação de um inteiro com um ponto flutuante\n",
    "print(2 * 5.3)\n",
    "\n",
    "# divisão de um ponto flutuante por um inteiro\n",
    "print(9.4 / 3)\n",
    "\n",
    "# divisão inteira de um ponto flutuante por um inteiro\n",
    "print(9.4 // 3)\n",
    "\n",
    "# potenciação de um inteiro por um inteiro\n",
    "print(2 ** 8)\n",
    "\n",
    "# módulo ou resto da divisão entre dois inteiros\n",
    "print(10 % 3)"
   ]
  },
  {
   "cell_type": "markdown",
   "id": "9b36d36a",
   "metadata": {
    "pycharm": {
     "name": "#%% md\n"
    }
   },
   "source": [
    "# Desafio 1 - Qual o percentual de comprometimento do seu salário com o pagamento das despesas?\n"
   ]
  },
  {
   "cell_type": "code",
   "execution_count": null,
   "id": "9c0ba714",
   "metadata": {
    "pycharm": {
     "name": "#%%\n"
    }
   },
   "outputs": [],
   "source": [
    "# Variáveis do problema\n",
    "salario = 3450.45\n",
    "despesas = 2456.2\n",
    "\n",
    "# Calcula o salário sobre o percentual das despesas\n",
    "percentual_salario = despesas / salario * 100\n",
    "\n",
    "print(percentual_salario)\n"
   ]
  },
  {
   "cell_type": "markdown",
   "id": "b6ef2eef",
   "metadata": {
    "pycharm": {
     "name": "#%% md\n"
    }
   },
   "source": [
    "# Operadores relacionais\n",
    "Operadores relacionais são os operadores lógicos de comparações\n",
    "\n",
    "\"==\" -> Igualdade</br>\n",
    "\"!=\"-> Diferença</br>\n",
    "\"<\" -> menor que</br>\n",
    "\">\" -> maior que</br>\n",
    "\"<=\" -> Menor ou igual que</br>\n",
    "\">=\" -> Maior ou igual que</br>\n",
    "\n",
    "No Python o operador de igualdade realiza a função do operador de identidade (===) em outras linguagens, distinguindo os tipos primitivos"
   ]
  },
  {
   "cell_type": "code",
   "execution_count": null,
   "id": "ce80e61a",
   "metadata": {
    "pycharm": {
     "name": "#%%\n"
    }
   },
   "outputs": [],
   "source": [
    "3 == 3 # O resultado é true\n",
    "\n",
    "2 == '2' # O resultado é false\n",
    "\n",
    "3 > 4 # O Resultado é false\n",
    "\n",
    "3 < 7 # O Resultado é true\n",
    "\n",
    "2 != 3 # O Resultado é true\n",
    "\n",
    "4 >= 3 # O Resultado é true\n",
    "\n",
    "3 <= 1 # O Resultado é false\n"
   ]
  },
  {
   "cell_type": "markdown",
   "source": [
    "# Operadores Lógicos"
   ],
   "metadata": {
    "collapsed": false,
    "pycharm": {
     "name": "#%% md\n"
    }
   }
  },
  {
   "cell_type": "code",
   "execution_count": null,
   "id": "ce50d826",
   "metadata": {
    "pycharm": {
     "name": "#%%\n"
    }
   },
   "outputs": [],
   "source": [
    "True or False # Resultado Verdadeiro\n",
    "\n",
    "7 != 3 and 2 > 3 # Resultado Falso\n",
    "\n",
    "# Tabela-Verdade do AND\n",
    "\n",
    "True and True # Resultado Verdadeiro\n",
    "True and False # Resultado Falso\n",
    "False and True # Resultado Falso\n",
    "False and False # Resultado Falso\n",
    "\n",
    "# Tabela-Verdade do OR\n",
    "\n",
    "True or True # Resultado Verdadeiro\n",
    "True or False # Resultado Verdadeiro\n",
    "False or True # Resultado Verdadeiro\n",
    "False or False # Resultado Falso\n",
    "\n",
    "# Tabela verdade do XOR(ou Exclusivo)\n",
    "\n",
    "True != True # Resultado Falso\n",
    "True != False # Resultado Verdadeiro\n",
    "False != True # Resultado Verdadeiro\n",
    "False != False # Resultado Falso\n",
    "\n",
    "# Operador de Negação(Operador Unário)\n",
    "not True # Resultado é Falso\n",
    "not False # Resultado é Verdadeiro\n",
    "not not True # Resultado é Verdadeiro\n",
    "\n",
    "\n",
    "not 0 # Resultado é Verdadeiro (Zero é Considerado Falso em Python)\n",
    "not 1 # Resultado é Falso\n",
    "not -1 # Resultado é Falso\n",
    "\n",
    "# Cuidado Operadores Bit-a-Bit\n",
    "True & False\n",
    "False | False\n",
    "True ^ False\n",
    "\n",
    "# AND Bit-a-Bit\n",
    "# 3 = 11\n",
    "# 2 = 10\n",
    "# _ = 10(2 em decimal)\n",
    "3 & 2\n",
    "\n",
    "# OR Bit-a-Bit\n",
    "# 3 = 11  \n",
    "# 2 = 10\n",
    "# _ = 11(3 em decimal)\n",
    "3 | 2\n",
    "\n",
    "# XOR Bit-a-Bit\n",
    "# 3 = 11\n",
    "# 2 = 10\n",
    "# _ = 01(1 em decimal)\n",
    "3 ^ 2\n",
    "\n",
    "# Um pouco de realidade\n",
    "saldo = 1000\n",
    "salario = 4000\n",
    "despesas = 2967\n",
    "\n",
    "restante_salario = salario - despesas\n",
    "\n",
    "meta = saldo > 0 and restante_salario >= 0,2 * salario\n",
    "\n",
    "print(meta)"
   ]
  },
  {
   "cell_type": "markdown",
   "id": "c5c32598",
   "metadata": {
    "pycharm": {
     "name": "#%% md\n"
    }
   },
   "source": [
    "# Desafio Operadores Lógicos"
   ]
  },
  {
   "cell_type": "markdown",
   "id": "63cb7fda",
   "metadata": {
    "pycharm": {
     "name": "#%% md\n"
    }
   },
   "source": [
    "### Duas pessoas terão dois trabalhos para apresentar em dois dias diferentes, Um na terca-feira e outro na quinta-feira. Se os dois trabalhos derem certo, a pessoa prometeu que vai no shopping comprar uma televisão de 50. Se apenas um dos trabalhos der certo será uma de 32 polegadas. Nos dois Cenários, a família vai no shopping tomar sorvete. Agora se nenhum dos trabalhos derem certo, não haverá nada, porém a família passa a ter mais saúde, que é a negação de tomar sorvete."
   ]
  },
  {
   "cell_type": "code",
   "execution_count": null,
   "id": "0869ffcb",
   "metadata": {
    "pycharm": {
     "name": "#%%\n"
    }
   },
   "outputs": [],
   "source": [
    "\n",
    "trabalho_terca = True\n",
    "trabalho_quinta = True\n",
    "\n",
    "# Primeiro Cenário - Os dois trabalhos dão certo\n",
    "tv_50 = trabalho_terca and trabalho_quinta\n",
    "\n",
    "# Segundo Cenário - Somente um dos trabalhos dá certo\n",
    "tv_32 = trabalho_terca != trabalho_quinta\n",
    "\n",
    "# Quando qualquer um dos trabalhos dá certo\n",
    "sorvete = trabalho_terca or trabalho_quinta\n",
    "\n",
    "# Terceiro Cenário - Nenhum dos trabalhos dá certo\n",
    "mais_saudavel = not sorvete\n",
    "\n",
    "print(\"Tv50={} Tv32={} Sorvete={} Saudavel={}\"\n",
    "    .format(tv_50, tv_32, sorvete, mais_saudavel))"
   ]
  },
  {
   "cell_type": "markdown",
   "source": [
    "# Operadores Unários"
   ],
   "metadata": {
    "collapsed": false,
    "pycharm": {
     "name": "#%% md\n"
    }
   }
  },
  {
   "cell_type": "code",
   "execution_count": null,
   "outputs": [],
   "source": [
    "a =3\n",
    "\n",
    "# incremento, equivalente a a++ em outras linguagens\n",
    "a += 1\n",
    "print(a)\n",
    "\n",
    "# decremento, equivalente a a-- em outras linguagens\n",
    "a -= 2\n",
    "print(a)\n",
    "\n",
    "# a recebe -a\n",
    "a = -a\n",
    "print(a)\n",
    "\n",
    "# operador lógico de negação\n",
    "print(not 0) # True\n",
    "print(not True) # False\n",
    "print(not not True) # True\n",
    "print(not False) # True\n",
    "print(not 1) # False"
   ],
   "metadata": {
    "collapsed": false,
    "pycharm": {
     "name": "#%%\n"
    }
   }
  },
  {
   "cell_type": "markdown",
   "source": [
    "# Operadores Ternários"
   ],
   "metadata": {
    "collapsed": false,
    "pycharm": {
     "name": "#%% md\n"
    }
   }
  },
  {
   "cell_type": "code",
   "execution_count": null,
   "outputs": [],
   "source": [
    "esta_chovendo = True\n",
    "\n",
    "# a expressão está mais perto da opção verdadeira, primeiro argumento é o else, segundo é o if\n",
    "print('Hoje estou com as roupas ' + ('secas.', 'molhadas.')[esta_chovendo])\n",
    "\n",
    "# a mesma expressão de uma maneira mais literal\n",
    "print('Hoje estou com as roupas ' + ('molhadas.' if esta_chovendo else 'secas.'))\n"
   ],
   "metadata": {
    "collapsed": false,
    "pycharm": {
     "name": "#%%\n"
    }
   }
  },
  {
   "cell_type": "markdown",
   "source": [
    "# Operadores Membro e Identidade"
   ],
   "metadata": {
    "collapsed": false,
    "pycharm": {
     "name": "#%% md\n"
    }
   }
  },
  {
   "cell_type": "code",
   "execution_count": null,
   "outputs": [],
   "source": [
    "lista = [1, 2 , 3, 'Ana', 'Carla']\n",
    "# Operador de Membro - in\n",
    "print(2 in lista) # True\n",
    "print('Ana' not in lista) # False\n",
    "\n",
    "x = 3\n",
    "y = x\n",
    "z = 3\n",
    "# Operador de Identidade - is\n",
    "print(x is y) # True\n",
    "print(y is z) # True\n",
    "print(x is not z) # False\n",
    "\n",
    "# A lista b vai receber a referência da lista a, ou seja, usando o mesmo espaco de memória\n",
    "# Já a lista c, apesar do mesmo valor, aponta para um espaco em memória diferente\n",
    "lista_a = [1, 2 , 3]\n",
    "lista_b = lista_a\n",
    "lista_c = [1, 2 , 3]\n",
    "print(lista_a is lista_b) # True\n",
    "print(lista_b is lista_c) # False\n",
    "print(lista_b is not lista_c) # True\n"
   ],
   "metadata": {
    "collapsed": false,
    "pycharm": {
     "name": "#%%\n"
    }
   }
  },
  {
   "cell_type": "markdown",
   "source": [
    "# Builtins e Global Scope em Python"
   ],
   "metadata": {
    "collapsed": false,
    "pycharm": {
     "name": "#%% md\n"
    }
   }
  },
  {
   "cell_type": "code",
   "execution_count": null,
   "outputs": [],
   "source": [
    "# printa o tipo da variável que passamos no argumento\n",
    "type(1)\n",
    "\n",
    "# as funções type, print e help vem do builtins, que é, um módulo do python com várias funcionalidades importantes\n",
    "__builtins__.type('Fala Galera')\n",
    "__builtins__.print(10 / 3)\n",
    "\n",
    "# a função dir recebe um objeto como parâmetro e retorna tudo que está dentro dele: atributos, métodos, etc.\n",
    "# se não for passado parâmetro retornará tudo que está no escopo global\n",
    "dir()\n",
    "\n",
    "dir(__builtins__)"
   ],
   "metadata": {
    "collapsed": false,
    "pycharm": {
     "name": "#%%\n"
    }
   }
  },
  {
   "cell_type": "markdown",
   "source": [
    "# Conversão de Tipos"
   ],
   "metadata": {
    "collapsed": false,
    "pycharm": {
     "name": "#%% md\n"
    }
   }
  },
  {
   "cell_type": "code",
   "execution_count": null,
   "outputs": [],
   "source": [
    "2 + 3\n",
    "'2' + '3'\n",
    "\n",
    "# O python não tenta advinhar o que você quer fazer(concatenar ou somar)\n",
    "# 2 + '3'\n",
    "\n",
    "a = 2\n",
    "b = '3'\n",
    "\n",
    "print(type(a))\n",
    "print(type(b))\n",
    "\n",
    "# converter um valor para inteiro\n",
    "print(a + int(b))\n",
    "# converter um valor para string\n",
    "print(str(a) + b)\n",
    "\n",
    "# o python não vai tentar converter um valor de string inválido para inteiro\n",
    "# print(2 + int('2 ksjdkj'))\n",
    "\n",
    "# converte um valor para ponto flutuante\n",
    "print(2 + float('3.4'))"
   ],
   "metadata": {
    "collapsed": false,
    "pycharm": {
     "name": "#%%\n"
    }
   }
  },
  {
   "cell_type": "markdown",
   "source": [
    "# Coerção Automática"
   ],
   "metadata": {
    "collapsed": false,
    "pycharm": {
     "name": "#%% md\n"
    }
   }
  },
  {
   "cell_type": "code",
   "execution_count": null,
   "outputs": [],
   "source": [
    "# O resultado de uma divisão, por padrão no python sempre é float\n",
    "10 / 2\n",
    "print(type(10 / 2))\n",
    "\n",
    "# no móoulo, pode ocasionalmente gerar um inteiro\n",
    "10 // 3\n",
    "print(type(10 // 3))\n",
    "\n",
    "# assim como gerar um float\n",
    "10 // 3.3\n",
    "print(type(10 // 3.3))\n",
    "\n",
    "# aqui o python assume True como o valor inteiro 1\n",
    "2 + True # Resultado é 3\n",
    "print(type(2 + True))"
   ],
   "metadata": {
    "collapsed": false,
    "pycharm": {
     "name": "#%%\n"
    }
   }
  },
  {
   "cell_type": "markdown",
   "source": [
    "# Tipos Numéricos (Int e Float)"
   ],
   "metadata": {
    "collapsed": false,
    "pycharm": {
     "name": "#%% md\n"
    }
   }
  },
  {
   "cell_type": "code",
   "execution_count": null,
   "outputs": [],
   "source": [
    "dir(int)\n",
    "dir(float)\n",
    "\n",
    "a = 5\n",
    "b = 2.5\n",
    "\n",
    "print(a / b)\n",
    "print(a + b)\n",
    "print(a * b)\n",
    "\n",
    "print(type(a))\n",
    "print(type(b))\n",
    "print(type(a - b))\n",
    "\n",
    "# A função is_integer se refere ao valor, não ao tipo primitivo, por isso apesar de 5.0 ser do tipo float, ele representa um valor inteiro\n",
    "print(b.is_integer())\n",
    "print(5.0.is_integer())\n",
    "\n",
    "# equivalente a 2 +3\n",
    "print(int.__add__(2, 3))\n",
    "\n",
    "# valor absoluto(módulo) de um número\n",
    "print(abs(-2))"
   ],
   "metadata": {
    "collapsed": false,
    "pycharm": {
     "name": "#%%\n"
    }
   }
  },
  {
   "cell_type": "markdown",
   "source": [
    "# Tipos numéricos (Decimal)\n",
    "\n",
    "O Tipo decimal no python evita o problema de algumas linguagens de não conseguir ser precisa com números com muitas casas decimais. O tipo decimal não está por padrão no builtins do python, portanto precisa ser importado."
   ],
   "metadata": {
    "collapsed": false,
    "pycharm": {
     "name": "#%% md\n"
    }
   }
  },
  {
   "cell_type": "code",
   "execution_count": null,
   "outputs": [],
   "source": [
    "print(1.1 + 2.2) # Resultado 3.3000000000000003\n",
    "\n",
    "# Importação de uma bibliotca/módulo no python\n",
    "from decimal import Decimal, getcontext\n",
    "\n",
    "# limitar a precisão dos decimais a 3 casas\n",
    "getcontext().prec = 3\n",
    "\n",
    "# Dividir 1 por 7 usando o tipo decimal restrito a 3 casas\n",
    "Decimal(1) / Decimal(7)\n",
    "\n",
    "# Retorna o maior valor entre dois números\n",
    "Decimal.max(Decimal(1), Decimal(7))\n",
    "\n",
    "print(Decimal(1.1) + Decimal(2.2)) # Resultado 3.30"
   ],
   "metadata": {
    "collapsed": false,
    "pycharm": {
     "name": "#%%\n"
    }
   }
  },
  {
   "cell_type": "markdown",
   "source": [
    "# Tipo String"
   ],
   "metadata": {
    "collapsed": false,
    "pycharm": {
     "name": "#%% md\n"
    }
   }
  },
  {
   "cell_type": "code",
   "execution_count": null,
   "outputs": [],
   "source": [
    "dir(str)\n",
    "\n",
    "nome = 'Saulo Pedro'\n",
    "\n",
    "# Acessando a string como uma lista, nesse caso seria a letra 'S'\n",
    "nome[0]\n",
    "\n",
    "# A string é imutável, seu valor não pode ser mudado, apenas o valor da variável\n",
    "# nome[0] = 'P'\n",
    "\n",
    "# Colocando aspas simples dentro de um texto\n",
    "\"Dias D'Avila\" == 'Dias D\\'Avila'\n",
    "\n",
    "texto = 'Texto entre apostrófos pode ter \"aspas duplas\"'\n",
    "\n",
    "# 3 aspas simples ou duplas pode ser usadas para textos com mais de 1 linha\n",
    "doc = '''Texto com múltiplas linhas\n",
    "    ...linhas......................\n",
    "    lorem ipsum....................'''\n",
    "\n",
    "print(doc)\n",
    "\n",
    "# O \\n pode ser colocado também para quebrar linhas\n",
    "print('Texto com... \\n Mútiplas linhas')"
   ],
   "metadata": {
    "collapsed": false,
    "pycharm": {
     "name": "#%%\n"
    }
   }
  },
  {
   "cell_type": "markdown",
   "source": [
    "# Tipo String parte 2"
   ],
   "metadata": {
    "collapsed": false,
    "pycharm": {
     "name": "#%% md\n"
    }
   }
  },
  {
   "cell_type": "code",
   "execution_count": null,
   "outputs": [],
   "source": [
    "nome = 'Ana Júlia'\n",
    "\n",
    "# Acesando o índice 0 da string nome\n",
    "print(nome[0])\n",
    "\n",
    "# Acesando o índice 5 da string nome\n",
    "print(nome[5])\n",
    "\n",
    "# Acessando o índice -3(valores à direita) da string nome\n",
    "print(nome[-3])\n",
    "\n",
    "# Acessando um range da string nome à partir do índice 4\n",
    "print(nome[4:])\n",
    "\n",
    "# Acessando um range da string nome à partir do índice -5\n",
    "print(nome[-5:])\n",
    "\n",
    "# Acessando um range da string nome até o índice 3\n",
    "print(nome[:3])\n",
    "\n",
    "# Acessando um range da string nome do índice 2 até o 5\n",
    "print(nome[2:5])\n",
    "\n",
    "\n",
    "numeros = '1234567890'\n",
    "\n",
    "# Toda a String numeros\n",
    "print(numeros[::])\n",
    "\n",
    "# Pulando um índice da string numeros\n",
    "print(numeros[::2])\n",
    "\n",
    "# Pulando um índice da string numeros começando do índice 1\n",
    "print(numeros[1::2])\n",
    "\n",
    "# Indo do fim até o começa(inversão) da string numeros\n",
    "print(numeros[::-1])"
   ],
   "metadata": {
    "collapsed": false,
    "pycharm": {
     "name": "#%%\n"
    }
   }
  },
  {
   "cell_type": "markdown",
   "source": [
    "# Tipo String parte 3"
   ],
   "metadata": {
    "collapsed": false,
    "pycharm": {
     "name": "#%% md\n"
    }
   }
  },
  {
   "cell_type": "code",
   "execution_count": null,
   "outputs": [],
   "source": [
    "frase = 'Python é uma ótima linguagem de programação!'\n",
    "\n",
    "# Existe um py na string frase(Case sensitive)?\n",
    "'py' in frase # False\n",
    "\n",
    "# Existe ing na string frase?\n",
    "'ing' in frase # True\n",
    "\n",
    "# Tamanho da String\n",
    "len(frase)\n",
    "\n",
    "# Coloca todas as letras da string em minúsculo\n",
    "frase.lower()\n",
    "\n",
    "# Coloca todas as letras da string em maiúsculo\n",
    "frase.upper()\n",
    "\n",
    "# Relembrando que a string é imutável\n",
    "frase\n",
    "\n",
    "# Quebra uma string em uma lista, separando pelos espaços quando não recebe argumento\n",
    "frase.split()\n",
    "\n",
    "# Utilizando outro separador\n",
    "frase.split('a')"
   ],
   "metadata": {
    "collapsed": false,
    "pycharm": {
     "name": "#%%\n"
    }
   }
  },
  {
   "cell_type": "markdown",
   "source": [
    "# Tipo String parte 4"
   ],
   "metadata": {
    "collapsed": false,
    "pycharm": {
     "name": "#%% md\n"
    }
   }
  },
  {
   "cell_type": "code",
   "execution_count": null,
   "outputs": [],
   "source": [
    "a = '123'\n",
    "b = ' de Oliveira 4'\n",
    "\n",
    "# Operação de Alto Nível\n",
    "a + b\n",
    "\n",
    "# Operações Internas do Python (Métodos Mágicos)\n",
    "a.__add__(b)\n",
    "str.__add__(a, b)\n",
    "\n",
    "# O retorno do dir é apenas em Métodos Mágicos\n",
    "dir(str)\n",
    "\n",
    "len(a)\n",
    "a.__len__()\n",
    "\n",
    "'1' in a\n",
    "a.__contains__('1')"
   ],
   "metadata": {
    "collapsed": false,
    "pycharm": {
     "name": "#%%\n"
    }
   }
  },
  {
   "cell_type": "markdown",
   "source": [
    "# Listas em Python\n",
    "Em outras linguagens são chamados de vetores ou arrays, que são basicamente coleções de itens. No caso do python a lista é uma coleção **mutável** de itens, de tamanho **dinâmico** e pode ser **multitipada**."
   ],
   "metadata": {
    "collapsed": false,
    "pycharm": {
     "name": "#%% md\n"
    }
   }
  },
  {
   "cell_type": "code",
   "execution_count": null,
   "outputs": [],
   "source": [
    "# Cria uma lista vazia\n",
    "lista = []\n",
    "\n",
    "type(lista)\n",
    "dir(list)\n",
    "\n",
    "# retorna o tamanho da lista\n",
    "len(lista)\n",
    "\n",
    "# Adicionar itens(ou outras listas a lista\n",
    "lista.append(1)\n",
    "lista.append(5)\n",
    "lista.append([6 ,7 ,8])\n",
    "print(lista)\n",
    "\n",
    "nova_lista = [1, 5, 'Ana', 'Paula']\n",
    "\n",
    "# Remove o valor 5\n",
    "nova_lista.remove(5)\n",
    "\n",
    "# Inverte os itens da lista\n",
    "nova_lista.reverse()\n",
    "\n",
    "print(nova_lista)"
   ],
   "metadata": {
    "collapsed": false,
    "pycharm": {
     "name": "#%%\n"
    }
   }
  },
  {
   "cell_type": "markdown",
   "source": [
    "## Listas em Python parte 2"
   ],
   "metadata": {
    "collapsed": false,
    "pycharm": {
     "name": "#%% md\n"
    }
   }
  },
  {
   "cell_type": "code",
   "execution_count": null,
   "outputs": [],
   "source": [
    "lista = [1, 5, 'Rebecca', 'Victor', 3.1415]\n",
    "\n",
    "# Retorna o índice do valor na lista\n",
    "lista.index('Victor')\n",
    "\n",
    "# Acessa o valor do índice 2 da lista\n",
    "lista[2]\n",
    "\n",
    "# Existe o número 1 na lista?\n",
    "1 in lista\n",
    "\n",
    "# Python não está na lista?\n",
    "'Python' not in lista\n",
    "\n",
    "# Ultimo elemento da lista\n",
    "lista[-1]"
   ],
   "metadata": {
    "collapsed": false,
    "pycharm": {
     "name": "#%%\n"
    }
   }
  },
  {
   "cell_type": "markdown",
   "source": [
    "# Listas em Python parte 3"
   ],
   "metadata": {
    "collapsed": false,
    "pycharm": {
     "name": "#%% md\n"
    }
   }
  },
  {
   "cell_type": "code",
   "execution_count": null,
   "outputs": [],
   "source": [
    "lista = ['Ana', 'Paula', 'Silvia', 'Rafael', 'Carlos']\n",
    "\n",
    "# Do índice 1 ao índice 3, sem incluir o 3\n",
    "print(lista[1:3])\n",
    "# Do indice 1 ao indice -1, sem incluir o -1\n",
    "print(lista[1:-1])\n",
    "\n",
    "# Do índice 1 até o último\n",
    "print(lista[1:])\n",
    "\n",
    "# Do índice 0 até o -1(Último), sem incluir o -1(Último)\n",
    "print(lista[:-1])\n",
    "\n",
    "# Lista inteira\n",
    "print(lista[:])\n",
    "\n",
    "# toda a lista, pulando 1 índice\n",
    "print(lista[::2])\n",
    "\n",
    "# Deletando um valor pelo índice\n",
    "del lista[2]\n",
    "\n",
    "# Deletando os valores à partir do índice 2\n",
    "del lista[2:]\n",
    "\n",
    "print(lista)"
   ],
   "metadata": {
    "collapsed": false,
    "pycharm": {
     "name": "#%%\n"
    }
   }
  },
  {
   "cell_type": "markdown",
   "source": [
    "# Tuplas em Python\n",
    "As tuplas são estruturas estáticas, ou seja, não se pode criar novos elementos, apagá-los ou modificá-los."
   ],
   "metadata": {
    "collapsed": false,
    "pycharm": {
     "name": "#%% md\n"
    }
   }
  },
  {
   "cell_type": "code",
   "execution_count": null,
   "outputs": [],
   "source": [
    "# Criação de uma tupla\n",
    "tupla = tuple()\n",
    "tupla = ()\n",
    "\n",
    "type(tupla)\n",
    "dir(tupla)\n",
    "\n",
    "# Aqui está se definindo uma string\n",
    "tupla = ('um')\n",
    "type(tupla)\n",
    "\n",
    "# Para se definir corretamente o tipo tupla é necessário colocar uma \",\" após o primeiro elemento\n",
    "tupla = ('um',)\n",
    "type(tupla)\n",
    "print(tupla[0])\n",
    "\n",
    "cores = ('verde', 'verde', 'verde', 'verde', 'vermelho', 'azul')\n",
    "print(cores[1:])\n",
    "\n",
    "# Verifica quantos elementos possuem na tupla\n",
    "print(cores.count('verde'))"
   ],
   "metadata": {
    "collapsed": false,
    "pycharm": {
     "name": "#%%\n"
    }
   }
  },
  {
   "cell_type": "markdown",
   "source": [
    "# Dicionários em Python\n",
    "Dicionários são estruturas do tipo chave, valor. Normalmente é indexada com uma string sendo a chave."
   ],
   "metadata": {
    "collapsed": false,
    "pycharm": {
     "name": "#%% md\n"
    }
   }
  },
  {
   "cell_type": "code",
   "execution_count": null,
   "outputs": [],
   "source": [
    "# Criação de um dicionário\n",
    "pessoa = {'nome': 'Maik', 'idade': 19, 'linguagens':['python', 'php'] }\n",
    "type(pessoa)\n",
    "print(pessoa)\n",
    "\n",
    "# Acessando os valores do dicionário\n",
    "print(pessoa['nome'])\n",
    "\n",
    "# Acessando um índice de uma string dentro do dicionário\n",
    "print(pessoa['linguagens'][0])\n",
    "\n",
    "# Retornar as chaves do dicionário\n",
    "print(pessoa.keys())\n",
    "\n",
    "# Retornar os valores do dicionário\n",
    "print(pessoa.values())\n",
    "\n",
    "# Retornar valor padrão caso o indice não seja encontrado\n",
    "print(pessoa.get('tags', 'python'))"
   ],
   "metadata": {
    "collapsed": false,
    "pycharm": {
     "name": "#%%\n"
    }
   }
  },
  {
   "cell_type": "markdown",
   "source": [
    "# Dicionários em Python parte 2"
   ],
   "metadata": {
    "collapsed": false,
    "pycharm": {
     "name": "#%% md\n"
    }
   }
  },
  {
   "cell_type": "code",
   "execution_count": null,
   "outputs": [],
   "source": [
    "aluno = {'nome': 'Joãozinho', 'idade' : 17, 'serie': '2B', 'ano': 3, 'matricula': '23542345', 'materias_reprovadas': ['Matemática', 'Geografia', 'Educação Física']}\n",
    "print(aluno)\n",
    "\n",
    "# Modificando o valor da chave idade\n",
    "# Adicionado um elemento a lista da chave materias_reprovadas\n",
    "aluno['idade'] = 19\n",
    "aluno['materias_reprovadas'].append('Arte')\n",
    "print(aluno)\n",
    "\n",
    "# Retirar uma chave e valor do dicionário\n",
    "aluno.pop('ano')\n",
    "print(aluno)\n",
    "\n",
    "# Atualizar livremente as chaves e valores de um dicionário\n",
    "aluno.update({'serie': '4A', 'idade': '18', 'curso': 'Informática', 'notas': [3.7, 4.9] ,'materias_reprovadas': ['Matemática', 'Física']})\n",
    "print(aluno)\n",
    "\n",
    "# Retira a chave materias_reprovadas e o(s) respectivo(s) valor(es) da chave\n",
    "del aluno['materias_reprovadas']\n",
    "print(aluno)"
   ],
   "metadata": {
    "collapsed": false,
    "pycharm": {
     "name": "#%%\n"
    }
   }
  },
  {
   "cell_type": "markdown",
   "source": [
    "# Conjuntos em Python\n",
    "O Conjunto é delimitado apenas por chaves({}). O conjunto não ordenado pela ordem de inserção, não aceita valores repetitivos e não é uma estrutura indexada."
   ],
   "metadata": {
    "collapsed": false,
    "pycharm": {
     "name": "#%% md\n"
    }
   }
  },
  {
   "cell_type": "code",
   "execution_count": 19,
   "outputs": [
    {
     "name": "stdout",
     "output_type": "stream",
     "text": [
      "<class 'set'>\n",
      "{'a', 'd', 'u', 'l', 'i', 'C'}\n",
      "False\n",
      "True\n",
      "True\n",
      "{1, 2, 3, 4, 5, 6}\n",
      "{2}\n",
      "{1, 2, 3, 4, 5, 6}\n",
      "True\n",
      "True\n",
      "{1, 3}\n"
     ]
    }
   ],
   "source": [
    "# Criando um conjunto de inteiros\n",
    "a = {1 , 2, 3}\n",
    "print(type(a))\n",
    "\n",
    "# Criando um conjunto sob uma string(cada letra é um item do conjunto)\n",
    "a = set('Claudia')\n",
    "print(a)\n",
    "\n",
    "# Operadores de membro em conjuntos\n",
    "print(3 in a)\n",
    "print('a' in a)\n",
    "\n",
    "# Conjuntos com mesmo valores, a ordem e repetição não importam\n",
    "print({3, 1 ,2} == {2, 2, 1, 3})\n",
    "\n",
    "a = {1, 2, 3}\n",
    "b = {2, 4, 5, 6}\n",
    "\n",
    "# Operação de União - Membros distintos aos conjuntos\n",
    "u = a.union(b)\n",
    "print(u)\n",
    "\n",
    "# Operação de intersecção - Membros comuns aos conjuntos\n",
    "i = a.intersection(b)\n",
    "print(i)\n",
    "\n",
    "# Modificar um conjunto em relação a outro\n",
    "a.update(b)\n",
    "print(a)\n",
    "\n",
    "# Verificar se um conjunto é subconjunto de outro \"<=\"\n",
    "print(b <= b)\n",
    "\n",
    "# Verificar se um conjunto é superconjunto de outro \">=\"\n",
    "print(a >= b)\n",
    "\n",
    "# Diferença entra conjuntos\n",
    "print({1, 2, 3, 4} - {2, 4})"
   ],
   "metadata": {
    "collapsed": false,
    "pycharm": {
     "name": "#%%\n"
    }
   }
  },
  {
   "cell_type": "markdown",
   "source": [
    "# Interpolação no Python\n",
    "Interpolar é substituir valores dentro de uma string, existem 4 maneiras no python."
   ],
   "metadata": {
    "collapsed": false,
    "pycharm": {
     "name": "#%% md\n"
    }
   }
  },
  {
   "cell_type": "code",
   "execution_count": 27,
   "outputs": [
    {
     "name": "stdout",
     "output_type": "stream",
     "text": [
      "Nome: Maik Idade: 30\n",
      "Nome: Maik Idade: 30\n",
      "Nome: Maik Idade: 30\n",
      "Nome: Maik Idade: 30\n"
     ]
    }
   ],
   "source": [
    "from string import Template\n",
    "\n",
    "# Interpolação da maneira antiga\n",
    "nome, idade = 'Maik', 30\n",
    "print('Nome: %s Idade: %d' % (nome, idade))\n",
    "\n",
    "# Maneira intermediária\n",
    "print('Nome: {0} Idade: {1}'.format(nome, idade))\n",
    "\n",
    "# Maneira mais recente\n",
    "print(f'Nome: {nome} Idade: {idade}')\n",
    "\n",
    "# Maneira com Biblioteca\n",
    "s = Template('Nome: $n Idade: $i')\n",
    "print(s.substitute(n=nome, i=idade))"
   ],
   "metadata": {
    "collapsed": false,
    "pycharm": {
     "name": "#%%\n"
    }
   }
  }
 ],
 "metadata": {
  "kernelspec": {
   "display_name": "Python 3 (ipykernel)",
   "language": "python",
   "name": "python3"
  },
  "language_info": {
   "codemirror_mode": {
    "name": "ipython",
    "version": 3
   },
   "file_extension": ".py",
   "mimetype": "text/x-python",
   "name": "python",
   "nbconvert_exporter": "python",
   "pygments_lexer": "ipython3",
   "version": "3.9.12"
  }
 },
 "nbformat": 4,
 "nbformat_minor": 5
}