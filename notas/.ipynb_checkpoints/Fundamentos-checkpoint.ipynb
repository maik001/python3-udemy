{
 "cells": [
  {
   "cell_type": "markdown",
   "id": "8af917fc",
   "metadata": {},
   "source": [
    "# Primeiros Exemplos"
   ]
  },
  {
   "cell_type": "code",
   "execution_count": 19,
   "id": "e2fe7c97",
   "metadata": {},
   "outputs": [
    {
     "name": "stdout",
     "output_type": "stream",
     "text": [
      "Primeiro Programa\n",
      "Help on built-in function print in module builtins:\n",
      "\n",
      "print(...)\n",
      "    print(value, ..., sep=' ', end='\\n', file=sys.stdout, flush=False)\n",
      "    \n",
      "    Prints the values to a stream, or to sys.stdout by default.\n",
      "    Optional keyword arguments:\n",
      "    file:  a file-like object (stream); defaults to the current sys.stdout.\n",
      "    sep:   string inserted between values, default a space.\n",
      "    end:   string appended after the last value, default a newline.\n",
      "    flush: whether to forcibly flush the stream.\n",
      "\n"
     ]
    }
   ],
   "source": [
    "# print é a função de saída de dados em python\n",
    "print('Primeiro Programa')\n",
    "\n",
    "# para se quebrar linha em uma operação matemática é preciso colocar o /\n",
    "1 \\\n",
    "+ 2\n",
    "\n",
    "# a função help mostra um manual do que está no argumento\n",
    "help(print)"
   ]
  },
  {
   "cell_type": "code",
   "execution_count": 21,
   "id": "a1d60fef",
   "metadata": {},
   "outputs": [
    {
     "data": {
      "text/plain": [
       "15"
      ]
     },
     "execution_count": 21,
     "metadata": {},
     "output_type": "execute_result"
    }
   ],
   "source": [
    "# o que vai ser exibido será o resultado da ultima operação\n",
    "1 + 2 + 3\n",
    "4 + 5 + 6"
   ]
  },
  {
   "cell_type": "code",
   "execution_count": 23,
   "id": "a664c4d1",
   "metadata": {},
   "outputs": [
    {
     "name": "stdout",
     "output_type": "stream",
     "text": [
      "6\n",
      "15\n"
     ]
    }
   ],
   "source": [
    "# pra ser exibido os dois resultado é preciso colocar a função print\n",
    "print(1 + 2 + 3)\n",
    "print(4 + 5 + 6)"
   ]
  },
  {
   "cell_type": "markdown",
   "id": "b9801435",
   "metadata": {},
   "source": [
    "# Tipos de dados em Python"
   ]
  },
  {
   "cell_type": "code",
   "execution_count": 26,
   "id": "7c8ca2e8",
   "metadata": {},
   "outputs": [
    {
     "name": "stdout",
     "output_type": "stream",
     "text": [
      "True\n",
      "False\n",
      "2.2\n",
      "Qualquer texto na minha lingua\n",
      "Você é  muito  muito  muito  legal!\n",
      "[1, 2, 3]\n",
      "{'nome': 'Maik', 'idade': 19}\n",
      "None\n"
     ]
    }
   ],
   "source": [
    "# tipo booleano(Verdadeiro ou Falso)\n",
    "print(True)\n",
    "print(False)\n",
    "\n",
    "# tipo float(ponto flutuante) -> conjunto dos reais\n",
    "print(1.2 + 1)\n",
    "\n",
    "# string(cadeira de caracteres)\n",
    "print(\"Qualquer texto na minha lingua\")\n",
    "\n",
    "# concatenação de tipos mistos sem ambigüidade\n",
    "print('Você é ' + 3 * ' muito ' + ' legal!')\n",
    "\n",
    "# contatenação de tipos mistos com ambigüidade\n",
    "# print(3 + '3')\n",
    "\n",
    "# lista -> estrutura indexada(valores são acessados através de índices)\n",
    "print([1, 2, 3])\n",
    "\n",
    "# dicionario -> estrutura chave-valor(valores são acessados através de chaves-> identificadores únicos)\n",
    "print({'nome': 'Maik', 'idade': 19})\n",
    "\n",
    "# ausência de valores, nulo\n",
    "print(None)"
   ]
  },
  {
   "cell_type": "markdown",
   "id": "284b154e",
   "metadata": {},
   "source": [
    "# Variáveis em Python\n",
    "As variáveis em Python são dinâmicamente tipadas, ou seja, você não precisa explicitar que a variável \"a\" só irá receber valores inteiros, por exemplo.\n",
    "\n",
    "O Interpretador do Python é fortemente tipado porque quando você realiza, por exemplo, uma operação de concatenação de uma string com um inteiro, **ele vai reconhecer e distinguir esses tipos de variáveis** e perceber a ambigüidade dessa operação, assim como outras operações."
   ]
  },
  {
   "cell_type": "code",
   "execution_count": 27,
   "id": "6546885c",
   "metadata": {},
   "outputs": [
    {
     "name": "stdout",
     "output_type": "stream",
     "text": [
      "15.2\n",
      "Agora sou uma String\n"
     ]
    }
   ],
   "source": [
    "# atribuindo valor à variáveis\n",
    "a = 10\n",
    "b = 5.2\n",
    "\n",
    "print(a + b)\n",
    "\n",
    "# mudando o valor de \"a\" para outro tipo de variável de forma dinâmica\n",
    "a = \"Agora sou uma String\"\n",
    "\n",
    "print(a)"
   ]
  },
  {
   "cell_type": "markdown",
   "id": "39f34a7e",
   "metadata": {},
   "source": [
    "# Comentários em Python\n",
    "Comentários deve ser pertinentes à coisas realmente complexas e específicas, em outras palavras, forçando você a deixar o código o mais legível e intuitívo possível"
   ]
  },
  {
   "cell_type": "code",
   "execution_count": 30,
   "id": "656f89ea",
   "metadata": {},
   "outputs": [
    {
     "name": "stdout",
     "output_type": "stream",
     "text": [
      "850.4499999999998\n",
      "Comentário pode ser aqui também\n"
     ]
    }
   ],
   "source": [
    "# Minhas variáveis\n",
    "salario = 3250.45\n",
    "despesas = 2400\n",
    "\n",
    "\"\"\"\n",
    "Calcular a receita mensal substraindo as despesas do salário\n",
    "\"\"\"\n",
    "receita = salario - despesas\n",
    "\n",
    "print(receita)\n",
    "\n",
    "print('Comentário pode ser do lado também') # Pode ser aqui"
   ]
  },
  {
   "cell_type": "markdown",
   "id": "51b53637",
   "metadata": {},
   "source": [
    "# Operadores Aritméticos em Python\n",
    "Operadores Aritméticos são operadores binários, podemos classificar os operadores pela quantidade de operandos. Ex:\n",
    "2 + 2\n",
    "A soma é um operador binários pois precisa de dois operandos\n",
    "\n",
    "Existem também os operadores unários. Ex:\n",
    "++x\n",
    "x--"
   ]
  },
  {
   "cell_type": "code",
   "execution_count": 32,
   "id": "b1205968",
   "metadata": {},
   "outputs": [
    {
     "name": "stdout",
     "output_type": "stream",
     "text": [
      "5\n",
      "-3\n",
      "10.6\n",
      "3.1333333333333333\n",
      "3.0\n",
      "256\n",
      "1\n"
     ]
    }
   ],
   "source": [
    "# soma de dois valores inteiros\n",
    "print(2 + 3)\n",
    "\n",
    "# subtração de dois valores inteiros\n",
    "print(4 - 7)\n",
    "\n",
    "# multiplicação de um inteiro com um ponto flutuante\n",
    "print(2 * 5.3)\n",
    "\n",
    "# divisão de um ponto flutuante por um inteiro\n",
    "print(9.4 / 3)\n",
    "\n",
    "# divisão inteira de um ponto flutuante por um inteiro\n",
    "print(9.4 // 3)\n",
    "\n",
    "# potenciação de um inteiro por um inteiro\n",
    "print(2 ** 8)\n",
    "\n",
    "# módulo ou resto da divisão entre dois inteiros\n",
    "print(10 % 3)"
   ]
  },
  {
   "cell_type": "code",
   "execution_count": null,
   "id": "4f80370a",
   "metadata": {},
   "outputs": [],
   "source": []
  }
 ],
 "metadata": {
  "kernelspec": {
   "display_name": "Python 3 (ipykernel)",
   "language": "python",
   "name": "python3"
  },
  "language_info": {
   "codemirror_mode": {
    "name": "ipython",
    "version": 3
   },
   "file_extension": ".py",
   "mimetype": "text/x-python",
   "name": "python",
   "nbconvert_exporter": "python",
   "pygments_lexer": "ipython3",
   "version": "3.9.12"
  }
 },
 "nbformat": 4,
 "nbformat_minor": 5
}
